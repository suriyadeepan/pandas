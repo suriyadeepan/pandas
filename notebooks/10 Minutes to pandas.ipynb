{
 "cells": [
  {
   "cell_type": "code",
   "execution_count": 4,
   "metadata": {
    "collapsed": true
   },
   "outputs": [],
   "source": [
    "import pandas as pd\n",
    "import numpy as np\n",
    "from matplotlib import pyplot as plt\n",
    "%matplotlib inline\n",
    "plt.style.use('ggplot')"
   ]
  },
  {
   "cell_type": "code",
   "execution_count": 5,
   "metadata": {
    "collapsed": false
   },
   "outputs": [
    {
     "data": {
      "text/plain": [
       "0    1.0\n",
       "1    3.0\n",
       "2    5.0\n",
       "3    NaN\n",
       "4    6.0\n",
       "5    8.0\n",
       "dtype: float64"
      ]
     },
     "execution_count": 5,
     "metadata": {},
     "output_type": "execute_result"
    }
   ],
   "source": [
    "s = pd.Series([1,3,5,np.nan,6,8])\n",
    "s"
   ]
  },
  {
   "cell_type": "code",
   "execution_count": 6,
   "metadata": {
    "collapsed": false
   },
   "outputs": [
    {
     "data": {
      "text/plain": [
       "DatetimeIndex(['2013-01-01', '2013-01-02', '2013-01-03', '2013-01-04',\n",
       "               '2013-01-05', '2013-01-06'],\n",
       "              dtype='datetime64[ns]', freq='D')"
      ]
     },
     "execution_count": 6,
     "metadata": {},
     "output_type": "execute_result"
    }
   ],
   "source": [
    "dates = pd.date_range('20130101',periods = 6)\n",
    "dates"
   ]
  },
  {
   "cell_type": "code",
   "execution_count": 10,
   "metadata": {
    "collapsed": false
   },
   "outputs": [
    {
     "data": {
      "text/html": [
       "<div>\n",
       "<table border=\"1\" class=\"dataframe\">\n",
       "  <thead>\n",
       "    <tr style=\"text-align: right;\">\n",
       "      <th></th>\n",
       "      <th>A</th>\n",
       "      <th>B</th>\n",
       "      <th>C</th>\n",
       "      <th>D</th>\n",
       "    </tr>\n",
       "  </thead>\n",
       "  <tbody>\n",
       "    <tr>\n",
       "      <th>2013-01-01</th>\n",
       "      <td>1.043058</td>\n",
       "      <td>-0.164872</td>\n",
       "      <td>-1.612330</td>\n",
       "      <td>0.235259</td>\n",
       "    </tr>\n",
       "    <tr>\n",
       "      <th>2013-01-02</th>\n",
       "      <td>-0.920064</td>\n",
       "      <td>0.498860</td>\n",
       "      <td>-0.775807</td>\n",
       "      <td>-0.541094</td>\n",
       "    </tr>\n",
       "    <tr>\n",
       "      <th>2013-01-03</th>\n",
       "      <td>0.103407</td>\n",
       "      <td>-0.600222</td>\n",
       "      <td>0.967170</td>\n",
       "      <td>-1.472856</td>\n",
       "    </tr>\n",
       "    <tr>\n",
       "      <th>2013-01-04</th>\n",
       "      <td>-0.903428</td>\n",
       "      <td>-0.676502</td>\n",
       "      <td>0.516694</td>\n",
       "      <td>2.611231</td>\n",
       "    </tr>\n",
       "    <tr>\n",
       "      <th>2013-01-05</th>\n",
       "      <td>0.235661</td>\n",
       "      <td>0.842989</td>\n",
       "      <td>2.585322</td>\n",
       "      <td>1.416337</td>\n",
       "    </tr>\n",
       "    <tr>\n",
       "      <th>2013-01-06</th>\n",
       "      <td>-0.831221</td>\n",
       "      <td>-0.221468</td>\n",
       "      <td>1.019279</td>\n",
       "      <td>-1.041506</td>\n",
       "    </tr>\n",
       "  </tbody>\n",
       "</table>\n",
       "</div>"
      ],
      "text/plain": [
       "                   A         B         C         D\n",
       "2013-01-01  1.043058 -0.164872 -1.612330  0.235259\n",
       "2013-01-02 -0.920064  0.498860 -0.775807 -0.541094\n",
       "2013-01-03  0.103407 -0.600222  0.967170 -1.472856\n",
       "2013-01-04 -0.903428 -0.676502  0.516694  2.611231\n",
       "2013-01-05  0.235661  0.842989  2.585322  1.416337\n",
       "2013-01-06 -0.831221 -0.221468  1.019279 -1.041506"
      ]
     },
     "execution_count": 10,
     "metadata": {},
     "output_type": "execute_result"
    }
   ],
   "source": [
    "df = pd.DataFrame(np.random.randn(6,4),index=dates, columns=list('ABCD'))\n",
    "df"
   ]
  },
  {
   "cell_type": "code",
   "execution_count": 17,
   "metadata": {
    "collapsed": false
   },
   "outputs": [
    {
     "data": {
      "text/html": [
       "<div>\n",
       "<table border=\"1\" class=\"dataframe\">\n",
       "  <thead>\n",
       "    <tr style=\"text-align: right;\">\n",
       "      <th></th>\n",
       "      <th>A</th>\n",
       "      <th>B</th>\n",
       "      <th>C</th>\n",
       "      <th>D</th>\n",
       "      <th>E</th>\n",
       "      <th>F</th>\n",
       "    </tr>\n",
       "  </thead>\n",
       "  <tbody>\n",
       "    <tr>\n",
       "      <th>0</th>\n",
       "      <td>1.0</td>\n",
       "      <td>2016-01-01</td>\n",
       "      <td>1.0</td>\n",
       "      <td>3</td>\n",
       "      <td>test</td>\n",
       "      <td>foo</td>\n",
       "    </tr>\n",
       "    <tr>\n",
       "      <th>1</th>\n",
       "      <td>1.0</td>\n",
       "      <td>2016-01-02</td>\n",
       "      <td>1.0</td>\n",
       "      <td>3</td>\n",
       "      <td>train</td>\n",
       "      <td>foo</td>\n",
       "    </tr>\n",
       "    <tr>\n",
       "      <th>2</th>\n",
       "      <td>1.0</td>\n",
       "      <td>2016-01-03</td>\n",
       "      <td>1.0</td>\n",
       "      <td>3</td>\n",
       "      <td>valid</td>\n",
       "      <td>foo</td>\n",
       "    </tr>\n",
       "    <tr>\n",
       "      <th>3</th>\n",
       "      <td>1.0</td>\n",
       "      <td>2016-01-04</td>\n",
       "      <td>1.0</td>\n",
       "      <td>3</td>\n",
       "      <td>filibuster</td>\n",
       "      <td>foo</td>\n",
       "    </tr>\n",
       "  </tbody>\n",
       "</table>\n",
       "</div>"
      ],
      "text/plain": [
       "     A          B    C  D           E    F\n",
       "0  1.0 2016-01-01  1.0  3        test  foo\n",
       "1  1.0 2016-01-02  1.0  3       train  foo\n",
       "2  1.0 2016-01-03  1.0  3       valid  foo\n",
       "3  1.0 2016-01-04  1.0  3  filibuster  foo"
      ]
     },
     "execution_count": 17,
     "metadata": {},
     "output_type": "execute_result"
    }
   ],
   "source": [
    "df2 = pd.DataFrame( { 'A' : 1.,\n",
    "                    'B' : pd.date_range('20160101',periods=4),\n",
    "                    'C' : pd.Series(1,index=list(range(4)),dtype='float32'),\n",
    "                    'D' : np.array([3] * 4, dtype='int32'),\n",
    "                    'E' : pd.Categorical(['test','train','valid','filibuster']),\n",
    "                    'F' : 'foo'})\n",
    "df2"
   ]
  },
  {
   "cell_type": "code",
   "execution_count": 18,
   "metadata": {
    "collapsed": false
   },
   "outputs": [
    {
     "data": {
      "text/plain": [
       "A           float64\n",
       "B    datetime64[ns]\n",
       "C           float32\n",
       "D             int32\n",
       "E          category\n",
       "F            object\n",
       "dtype: object"
      ]
     },
     "execution_count": 18,
     "metadata": {},
     "output_type": "execute_result"
    }
   ],
   "source": [
    "df2.dtypes"
   ]
  },
  {
   "cell_type": "code",
   "execution_count": 28,
   "metadata": {
    "collapsed": false
   },
   "outputs": [
    {
     "name": "stdout",
     "output_type": "stream",
     "text": [
      "                   A         B         C         D\n",
      "2013-01-01  1.043058 -0.164872 -1.612330  0.235259\n",
      "2013-01-02 -0.920064  0.498860 -0.775807 -0.541094\n",
      "                   A         B         C         D\n",
      "2013-01-05  0.235661  0.842989  2.585322  1.416337\n",
      "2013-01-06 -0.831221 -0.221468  1.019279 -1.041506\n"
     ]
    }
   ],
   "source": [
    "print(df.head(2))\n",
    "print(df.tail(2))"
   ]
  },
  {
   "cell_type": "code",
   "execution_count": 35,
   "metadata": {
    "collapsed": false
   },
   "outputs": [
    {
     "name": "stdout",
     "output_type": "stream",
     "text": [
      "index DatetimeIndex(['2013-01-01', '2013-01-02', '2013-01-03', '2013-01-04',\n",
      "               '2013-01-05', '2013-01-06'],\n",
      "              dtype='datetime64[ns]', freq='D')\n",
      "columns Index(['A', 'B', 'C', 'D'], dtype='object')\n",
      "values [[ 1.04305842 -0.16487163 -1.6123301   0.23525897]\n",
      " [-0.92006423  0.49885979 -0.77580695 -0.54109399]\n",
      " [ 0.10340659 -0.60022212  0.9671697  -1.47285637]\n",
      " [-0.90342758 -0.67650221  0.51669375  2.61123066]\n",
      " [ 0.23566067  0.84298914  2.58532193  1.41633681]\n",
      " [-0.83122149 -0.22146769  1.01927946 -1.04150595]]\n"
     ]
    }
   ],
   "source": [
    "# index\n",
    "print('index',df.index)\n",
    "# columns\n",
    "print('columns',df.columns)\n",
    "# values\n",
    "print('values',df.values)"
   ]
  },
  {
   "cell_type": "code",
   "execution_count": 36,
   "metadata": {
    "collapsed": false
   },
   "outputs": [
    {
     "data": {
      "text/html": [
       "<div>\n",
       "<table border=\"1\" class=\"dataframe\">\n",
       "  <thead>\n",
       "    <tr style=\"text-align: right;\">\n",
       "      <th></th>\n",
       "      <th>A</th>\n",
       "      <th>B</th>\n",
       "      <th>C</th>\n",
       "      <th>D</th>\n",
       "    </tr>\n",
       "  </thead>\n",
       "  <tbody>\n",
       "    <tr>\n",
       "      <th>count</th>\n",
       "      <td>6.000000</td>\n",
       "      <td>6.000000</td>\n",
       "      <td>6.000000</td>\n",
       "      <td>6.000000</td>\n",
       "    </tr>\n",
       "    <tr>\n",
       "      <th>mean</th>\n",
       "      <td>-0.212098</td>\n",
       "      <td>-0.053536</td>\n",
       "      <td>0.450055</td>\n",
       "      <td>0.201228</td>\n",
       "    </tr>\n",
       "    <tr>\n",
       "      <th>std</th>\n",
       "      <td>0.804725</td>\n",
       "      <td>0.606044</td>\n",
       "      <td>1.477254</td>\n",
       "      <td>1.561009</td>\n",
       "    </tr>\n",
       "    <tr>\n",
       "      <th>min</th>\n",
       "      <td>-0.920064</td>\n",
       "      <td>-0.676502</td>\n",
       "      <td>-1.612330</td>\n",
       "      <td>-1.472856</td>\n",
       "    </tr>\n",
       "    <tr>\n",
       "      <th>25%</th>\n",
       "      <td>-0.885376</td>\n",
       "      <td>-0.505534</td>\n",
       "      <td>-0.452682</td>\n",
       "      <td>-0.916403</td>\n",
       "    </tr>\n",
       "    <tr>\n",
       "      <th>50%</th>\n",
       "      <td>-0.363907</td>\n",
       "      <td>-0.193170</td>\n",
       "      <td>0.741932</td>\n",
       "      <td>-0.152918</td>\n",
       "    </tr>\n",
       "    <tr>\n",
       "      <th>75%</th>\n",
       "      <td>0.202597</td>\n",
       "      <td>0.332927</td>\n",
       "      <td>1.006252</td>\n",
       "      <td>1.121067</td>\n",
       "    </tr>\n",
       "    <tr>\n",
       "      <th>max</th>\n",
       "      <td>1.043058</td>\n",
       "      <td>0.842989</td>\n",
       "      <td>2.585322</td>\n",
       "      <td>2.611231</td>\n",
       "    </tr>\n",
       "  </tbody>\n",
       "</table>\n",
       "</div>"
      ],
      "text/plain": [
       "              A         B         C         D\n",
       "count  6.000000  6.000000  6.000000  6.000000\n",
       "mean  -0.212098 -0.053536  0.450055  0.201228\n",
       "std    0.804725  0.606044  1.477254  1.561009\n",
       "min   -0.920064 -0.676502 -1.612330 -1.472856\n",
       "25%   -0.885376 -0.505534 -0.452682 -0.916403\n",
       "50%   -0.363907 -0.193170  0.741932 -0.152918\n",
       "75%    0.202597  0.332927  1.006252  1.121067\n",
       "max    1.043058  0.842989  2.585322  2.611231"
      ]
     },
     "execution_count": 36,
     "metadata": {},
     "output_type": "execute_result"
    }
   ],
   "source": [
    "# STATISTICS\n",
    "df.describe()"
   ]
  },
  {
   "cell_type": "code",
   "execution_count": 37,
   "metadata": {
    "collapsed": false
   },
   "outputs": [
    {
     "data": {
      "text/html": [
       "<div>\n",
       "<table border=\"1\" class=\"dataframe\">\n",
       "  <thead>\n",
       "    <tr style=\"text-align: right;\">\n",
       "      <th></th>\n",
       "      <th>A</th>\n",
       "      <th>C</th>\n",
       "      <th>D</th>\n",
       "    </tr>\n",
       "  </thead>\n",
       "  <tbody>\n",
       "    <tr>\n",
       "      <th>count</th>\n",
       "      <td>4.0</td>\n",
       "      <td>4.0</td>\n",
       "      <td>4.0</td>\n",
       "    </tr>\n",
       "    <tr>\n",
       "      <th>mean</th>\n",
       "      <td>1.0</td>\n",
       "      <td>1.0</td>\n",
       "      <td>3.0</td>\n",
       "    </tr>\n",
       "    <tr>\n",
       "      <th>std</th>\n",
       "      <td>0.0</td>\n",
       "      <td>0.0</td>\n",
       "      <td>0.0</td>\n",
       "    </tr>\n",
       "    <tr>\n",
       "      <th>min</th>\n",
       "      <td>1.0</td>\n",
       "      <td>1.0</td>\n",
       "      <td>3.0</td>\n",
       "    </tr>\n",
       "    <tr>\n",
       "      <th>25%</th>\n",
       "      <td>1.0</td>\n",
       "      <td>1.0</td>\n",
       "      <td>3.0</td>\n",
       "    </tr>\n",
       "    <tr>\n",
       "      <th>50%</th>\n",
       "      <td>1.0</td>\n",
       "      <td>1.0</td>\n",
       "      <td>3.0</td>\n",
       "    </tr>\n",
       "    <tr>\n",
       "      <th>75%</th>\n",
       "      <td>1.0</td>\n",
       "      <td>1.0</td>\n",
       "      <td>3.0</td>\n",
       "    </tr>\n",
       "    <tr>\n",
       "      <th>max</th>\n",
       "      <td>1.0</td>\n",
       "      <td>1.0</td>\n",
       "      <td>3.0</td>\n",
       "    </tr>\n",
       "  </tbody>\n",
       "</table>\n",
       "</div>"
      ],
      "text/plain": [
       "         A    C    D\n",
       "count  4.0  4.0  4.0\n",
       "mean   1.0  1.0  3.0\n",
       "std    0.0  0.0  0.0\n",
       "min    1.0  1.0  3.0\n",
       "25%    1.0  1.0  3.0\n",
       "50%    1.0  1.0  3.0\n",
       "75%    1.0  1.0  3.0\n",
       "max    1.0  1.0  3.0"
      ]
     },
     "execution_count": 37,
     "metadata": {},
     "output_type": "execute_result"
    }
   ],
   "source": [
    "df2.describe()"
   ]
  },
  {
   "cell_type": "code",
   "execution_count": 38,
   "metadata": {
    "collapsed": false
   },
   "outputs": [
    {
     "data": {
      "text/html": [
       "<div>\n",
       "<table border=\"1\" class=\"dataframe\">\n",
       "  <thead>\n",
       "    <tr style=\"text-align: right;\">\n",
       "      <th></th>\n",
       "      <th>2013-01-01 00:00:00</th>\n",
       "      <th>2013-01-02 00:00:00</th>\n",
       "      <th>2013-01-03 00:00:00</th>\n",
       "      <th>2013-01-04 00:00:00</th>\n",
       "      <th>2013-01-05 00:00:00</th>\n",
       "      <th>2013-01-06 00:00:00</th>\n",
       "    </tr>\n",
       "  </thead>\n",
       "  <tbody>\n",
       "    <tr>\n",
       "      <th>A</th>\n",
       "      <td>1.043058</td>\n",
       "      <td>-0.920064</td>\n",
       "      <td>0.103407</td>\n",
       "      <td>-0.903428</td>\n",
       "      <td>0.235661</td>\n",
       "      <td>-0.831221</td>\n",
       "    </tr>\n",
       "    <tr>\n",
       "      <th>B</th>\n",
       "      <td>-0.164872</td>\n",
       "      <td>0.498860</td>\n",
       "      <td>-0.600222</td>\n",
       "      <td>-0.676502</td>\n",
       "      <td>0.842989</td>\n",
       "      <td>-0.221468</td>\n",
       "    </tr>\n",
       "    <tr>\n",
       "      <th>C</th>\n",
       "      <td>-1.612330</td>\n",
       "      <td>-0.775807</td>\n",
       "      <td>0.967170</td>\n",
       "      <td>0.516694</td>\n",
       "      <td>2.585322</td>\n",
       "      <td>1.019279</td>\n",
       "    </tr>\n",
       "    <tr>\n",
       "      <th>D</th>\n",
       "      <td>0.235259</td>\n",
       "      <td>-0.541094</td>\n",
       "      <td>-1.472856</td>\n",
       "      <td>2.611231</td>\n",
       "      <td>1.416337</td>\n",
       "      <td>-1.041506</td>\n",
       "    </tr>\n",
       "  </tbody>\n",
       "</table>\n",
       "</div>"
      ],
      "text/plain": [
       "   2013-01-01  2013-01-02  2013-01-03  2013-01-04  2013-01-05  2013-01-06\n",
       "A    1.043058   -0.920064    0.103407   -0.903428    0.235661   -0.831221\n",
       "B   -0.164872    0.498860   -0.600222   -0.676502    0.842989   -0.221468\n",
       "C   -1.612330   -0.775807    0.967170    0.516694    2.585322    1.019279\n",
       "D    0.235259   -0.541094   -1.472856    2.611231    1.416337   -1.041506"
      ]
     },
     "execution_count": 38,
     "metadata": {},
     "output_type": "execute_result"
    }
   ],
   "source": [
    "# transpose\n",
    "df.T"
   ]
  },
  {
   "cell_type": "code",
   "execution_count": 44,
   "metadata": {
    "collapsed": false
   },
   "outputs": [
    {
     "name": "stdout",
     "output_type": "stream",
     "text": [
      "                   A         B         C         D\n",
      "2013-01-01  1.043058 -0.164872 -1.612330  0.235259\n",
      "2013-01-02 -0.920064  0.498860 -0.775807 -0.541094\n",
      "2013-01-03  0.103407 -0.600222  0.967170 -1.472856\n",
      "2013-01-04 -0.903428 -0.676502  0.516694  2.611231\n",
      "2013-01-05  0.235661  0.842989  2.585322  1.416337\n",
      "2013-01-06 -0.831221 -0.221468  1.019279 -1.041506\n",
      "                   A         B         C         D\n",
      "2013-01-06 -0.831221 -0.221468  1.019279 -1.041506\n",
      "2013-01-05  0.235661  0.842989  2.585322  1.416337\n",
      "2013-01-04 -0.903428 -0.676502  0.516694  2.611231\n",
      "2013-01-03  0.103407 -0.600222  0.967170 -1.472856\n",
      "2013-01-02 -0.920064  0.498860 -0.775807 -0.541094\n",
      "2013-01-01  1.043058 -0.164872 -1.612330  0.235259\n"
     ]
    },
    {
     "data": {
      "text/html": [
       "<div>\n",
       "<table border=\"1\" class=\"dataframe\">\n",
       "  <thead>\n",
       "    <tr style=\"text-align: right;\">\n",
       "      <th></th>\n",
       "      <th>D</th>\n",
       "      <th>C</th>\n",
       "      <th>B</th>\n",
       "      <th>A</th>\n",
       "    </tr>\n",
       "  </thead>\n",
       "  <tbody>\n",
       "    <tr>\n",
       "      <th>2013-01-01</th>\n",
       "      <td>0.235259</td>\n",
       "      <td>-1.612330</td>\n",
       "      <td>-0.164872</td>\n",
       "      <td>1.043058</td>\n",
       "    </tr>\n",
       "    <tr>\n",
       "      <th>2013-01-02</th>\n",
       "      <td>-0.541094</td>\n",
       "      <td>-0.775807</td>\n",
       "      <td>0.498860</td>\n",
       "      <td>-0.920064</td>\n",
       "    </tr>\n",
       "    <tr>\n",
       "      <th>2013-01-03</th>\n",
       "      <td>-1.472856</td>\n",
       "      <td>0.967170</td>\n",
       "      <td>-0.600222</td>\n",
       "      <td>0.103407</td>\n",
       "    </tr>\n",
       "    <tr>\n",
       "      <th>2013-01-04</th>\n",
       "      <td>2.611231</td>\n",
       "      <td>0.516694</td>\n",
       "      <td>-0.676502</td>\n",
       "      <td>-0.903428</td>\n",
       "    </tr>\n",
       "    <tr>\n",
       "      <th>2013-01-05</th>\n",
       "      <td>1.416337</td>\n",
       "      <td>2.585322</td>\n",
       "      <td>0.842989</td>\n",
       "      <td>0.235661</td>\n",
       "    </tr>\n",
       "    <tr>\n",
       "      <th>2013-01-06</th>\n",
       "      <td>-1.041506</td>\n",
       "      <td>1.019279</td>\n",
       "      <td>-0.221468</td>\n",
       "      <td>-0.831221</td>\n",
       "    </tr>\n",
       "  </tbody>\n",
       "</table>\n",
       "</div>"
      ],
      "text/plain": [
       "                   D         C         B         A\n",
       "2013-01-01  0.235259 -1.612330 -0.164872  1.043058\n",
       "2013-01-02 -0.541094 -0.775807  0.498860 -0.920064\n",
       "2013-01-03 -1.472856  0.967170 -0.600222  0.103407\n",
       "2013-01-04  2.611231  0.516694 -0.676502 -0.903428\n",
       "2013-01-05  1.416337  2.585322  0.842989  0.235661\n",
       "2013-01-06 -1.041506  1.019279 -0.221468 -0.831221"
      ]
     },
     "execution_count": 44,
     "metadata": {},
     "output_type": "execute_result"
    }
   ],
   "source": [
    "print(df)\n",
    "print(df.sort_index(axis=0,ascending=False))\n",
    "df.sort_index(axis=1,ascending=False)"
   ]
  },
  {
   "cell_type": "code",
   "execution_count": 46,
   "metadata": {
    "collapsed": false
   },
   "outputs": [
    {
     "data": {
      "text/html": [
       "<div>\n",
       "<table border=\"1\" class=\"dataframe\">\n",
       "  <thead>\n",
       "    <tr style=\"text-align: right;\">\n",
       "      <th></th>\n",
       "      <th>A</th>\n",
       "      <th>B</th>\n",
       "      <th>C</th>\n",
       "      <th>D</th>\n",
       "    </tr>\n",
       "  </thead>\n",
       "  <tbody>\n",
       "    <tr>\n",
       "      <th>2013-01-05</th>\n",
       "      <td>0.235661</td>\n",
       "      <td>0.842989</td>\n",
       "      <td>2.585322</td>\n",
       "      <td>1.416337</td>\n",
       "    </tr>\n",
       "    <tr>\n",
       "      <th>2013-01-02</th>\n",
       "      <td>-0.920064</td>\n",
       "      <td>0.498860</td>\n",
       "      <td>-0.775807</td>\n",
       "      <td>-0.541094</td>\n",
       "    </tr>\n",
       "    <tr>\n",
       "      <th>2013-01-01</th>\n",
       "      <td>1.043058</td>\n",
       "      <td>-0.164872</td>\n",
       "      <td>-1.612330</td>\n",
       "      <td>0.235259</td>\n",
       "    </tr>\n",
       "    <tr>\n",
       "      <th>2013-01-06</th>\n",
       "      <td>-0.831221</td>\n",
       "      <td>-0.221468</td>\n",
       "      <td>1.019279</td>\n",
       "      <td>-1.041506</td>\n",
       "    </tr>\n",
       "    <tr>\n",
       "      <th>2013-01-03</th>\n",
       "      <td>0.103407</td>\n",
       "      <td>-0.600222</td>\n",
       "      <td>0.967170</td>\n",
       "      <td>-1.472856</td>\n",
       "    </tr>\n",
       "    <tr>\n",
       "      <th>2013-01-04</th>\n",
       "      <td>-0.903428</td>\n",
       "      <td>-0.676502</td>\n",
       "      <td>0.516694</td>\n",
       "      <td>2.611231</td>\n",
       "    </tr>\n",
       "  </tbody>\n",
       "</table>\n",
       "</div>"
      ],
      "text/plain": [
       "                   A         B         C         D\n",
       "2013-01-05  0.235661  0.842989  2.585322  1.416337\n",
       "2013-01-02 -0.920064  0.498860 -0.775807 -0.541094\n",
       "2013-01-01  1.043058 -0.164872 -1.612330  0.235259\n",
       "2013-01-06 -0.831221 -0.221468  1.019279 -1.041506\n",
       "2013-01-03  0.103407 -0.600222  0.967170 -1.472856\n",
       "2013-01-04 -0.903428 -0.676502  0.516694  2.611231"
      ]
     },
     "execution_count": 46,
     "metadata": {},
     "output_type": "execute_result"
    }
   ],
   "source": [
    "df.sort_values(by='B',ascending=False)"
   ]
  },
  {
   "cell_type": "code",
   "execution_count": 53,
   "metadata": {
    "collapsed": false
   },
   "outputs": [
    {
     "name": "stdout",
     "output_type": "stream",
     "text": [
      "                   A         B         C         D\n",
      "2013-01-02 -0.920064  0.498860 -0.775807 -0.541094\n",
      "2013-01-03  0.103407 -0.600222  0.967170 -1.472856\n",
      "2013-01-01    1.043058\n",
      "2013-01-02   -0.920064\n",
      "2013-01-03    0.103407\n",
      "2013-01-04   -0.903428\n",
      "2013-01-05    0.235661\n",
      "2013-01-06   -0.831221\n",
      "Freq: D, Name: A, dtype: float64\n"
     ]
    }
   ],
   "source": [
    "# selection\n",
    "print(df[1:3])\n",
    "print(df['A'])"
   ]
  },
  {
   "cell_type": "code",
   "execution_count": 54,
   "metadata": {
    "collapsed": false
   },
   "outputs": [
    {
     "data": {
      "text/html": [
       "<div>\n",
       "<table border=\"1\" class=\"dataframe\">\n",
       "  <thead>\n",
       "    <tr style=\"text-align: right;\">\n",
       "      <th></th>\n",
       "      <th>A</th>\n",
       "      <th>B</th>\n",
       "      <th>C</th>\n",
       "      <th>D</th>\n",
       "    </tr>\n",
       "  </thead>\n",
       "  <tbody>\n",
       "    <tr>\n",
       "      <th>2013-01-02</th>\n",
       "      <td>-0.920064</td>\n",
       "      <td>0.498860</td>\n",
       "      <td>-0.775807</td>\n",
       "      <td>-0.541094</td>\n",
       "    </tr>\n",
       "    <tr>\n",
       "      <th>2013-01-03</th>\n",
       "      <td>0.103407</td>\n",
       "      <td>-0.600222</td>\n",
       "      <td>0.967170</td>\n",
       "      <td>-1.472856</td>\n",
       "    </tr>\n",
       "    <tr>\n",
       "      <th>2013-01-04</th>\n",
       "      <td>-0.903428</td>\n",
       "      <td>-0.676502</td>\n",
       "      <td>0.516694</td>\n",
       "      <td>2.611231</td>\n",
       "    </tr>\n",
       "    <tr>\n",
       "      <th>2013-01-05</th>\n",
       "      <td>0.235661</td>\n",
       "      <td>0.842989</td>\n",
       "      <td>2.585322</td>\n",
       "      <td>1.416337</td>\n",
       "    </tr>\n",
       "  </tbody>\n",
       "</table>\n",
       "</div>"
      ],
      "text/plain": [
       "                   A         B         C         D\n",
       "2013-01-02 -0.920064  0.498860 -0.775807 -0.541094\n",
       "2013-01-03  0.103407 -0.600222  0.967170 -1.472856\n",
       "2013-01-04 -0.903428 -0.676502  0.516694  2.611231\n",
       "2013-01-05  0.235661  0.842989  2.585322  1.416337"
      ]
     },
     "execution_count": 54,
     "metadata": {},
     "output_type": "execute_result"
    }
   ],
   "source": [
    "df['20130102':'20130105']"
   ]
  },
  {
   "cell_type": "code",
   "execution_count": 59,
   "metadata": {
    "collapsed": false
   },
   "outputs": [
    {
     "name": "stdout",
     "output_type": "stream",
     "text": [
      "                   A         B        C         D\n",
      "2013-01-03  0.103407 -0.600222  0.96717 -1.472856\n",
      "A    0.103407\n",
      "B   -0.600222\n",
      "C    0.967170\n",
      "D   -1.472856\n",
      "Name: 2013-01-03 00:00:00, dtype: float64\n",
      "A    0.103407\n",
      "B   -0.600222\n",
      "C    0.967170\n",
      "D   -1.472856\n",
      "Name: 2013-01-03 00:00:00, dtype: float64\n"
     ]
    }
   ],
   "source": [
    "# selection by label\n",
    "print(df['20130103':'20130103'])\n",
    "print(df.loc[dates[2]])\n",
    "print(df.loc['20130103'])"
   ]
  },
  {
   "cell_type": "code",
   "execution_count": 64,
   "metadata": {
    "collapsed": false
   },
   "outputs": [
    {
     "data": {
      "text/html": [
       "<div>\n",
       "<table border=\"1\" class=\"dataframe\">\n",
       "  <thead>\n",
       "    <tr style=\"text-align: right;\">\n",
       "      <th></th>\n",
       "      <th>B</th>\n",
       "      <th>C</th>\n",
       "    </tr>\n",
       "  </thead>\n",
       "  <tbody>\n",
       "    <tr>\n",
       "      <th>2013-01-01</th>\n",
       "      <td>-0.164872</td>\n",
       "      <td>-1.612330</td>\n",
       "    </tr>\n",
       "    <tr>\n",
       "      <th>2013-01-02</th>\n",
       "      <td>0.498860</td>\n",
       "      <td>-0.775807</td>\n",
       "    </tr>\n",
       "    <tr>\n",
       "      <th>2013-01-03</th>\n",
       "      <td>-0.600222</td>\n",
       "      <td>0.967170</td>\n",
       "    </tr>\n",
       "    <tr>\n",
       "      <th>2013-01-04</th>\n",
       "      <td>-0.676502</td>\n",
       "      <td>0.516694</td>\n",
       "    </tr>\n",
       "    <tr>\n",
       "      <th>2013-01-05</th>\n",
       "      <td>0.842989</td>\n",
       "      <td>2.585322</td>\n",
       "    </tr>\n",
       "    <tr>\n",
       "      <th>2013-01-06</th>\n",
       "      <td>-0.221468</td>\n",
       "      <td>1.019279</td>\n",
       "    </tr>\n",
       "  </tbody>\n",
       "</table>\n",
       "</div>"
      ],
      "text/plain": [
       "                   B         C\n",
       "2013-01-01 -0.164872 -1.612330\n",
       "2013-01-02  0.498860 -0.775807\n",
       "2013-01-03 -0.600222  0.967170\n",
       "2013-01-04 -0.676502  0.516694\n",
       "2013-01-05  0.842989  2.585322\n",
       "2013-01-06 -0.221468  1.019279"
      ]
     },
     "execution_count": 64,
     "metadata": {},
     "output_type": "execute_result"
    }
   ],
   "source": [
    "# multi-axis by label\n",
    "df.loc[:,['B','C']]"
   ]
  },
  {
   "cell_type": "code",
   "execution_count": 66,
   "metadata": {
    "collapsed": false
   },
   "outputs": [
    {
     "data": {
      "text/html": [
       "<div>\n",
       "<table border=\"1\" class=\"dataframe\">\n",
       "  <thead>\n",
       "    <tr style=\"text-align: right;\">\n",
       "      <th></th>\n",
       "      <th>A</th>\n",
       "      <th>D</th>\n",
       "    </tr>\n",
       "  </thead>\n",
       "  <tbody>\n",
       "    <tr>\n",
       "      <th>2013-01-02</th>\n",
       "      <td>-0.920064</td>\n",
       "      <td>-0.541094</td>\n",
       "    </tr>\n",
       "    <tr>\n",
       "      <th>2013-01-03</th>\n",
       "      <td>0.103407</td>\n",
       "      <td>-1.472856</td>\n",
       "    </tr>\n",
       "    <tr>\n",
       "      <th>2013-01-04</th>\n",
       "      <td>-0.903428</td>\n",
       "      <td>2.611231</td>\n",
       "    </tr>\n",
       "    <tr>\n",
       "      <th>2013-01-05</th>\n",
       "      <td>0.235661</td>\n",
       "      <td>1.416337</td>\n",
       "    </tr>\n",
       "  </tbody>\n",
       "</table>\n",
       "</div>"
      ],
      "text/plain": [
       "                   A         D\n",
       "2013-01-02 -0.920064 -0.541094\n",
       "2013-01-03  0.103407 -1.472856\n",
       "2013-01-04 -0.903428  2.611231\n",
       "2013-01-05  0.235661  1.416337"
      ]
     },
     "execution_count": 66,
     "metadata": {},
     "output_type": "execute_result"
    }
   ],
   "source": [
    "df.loc['20130102':'20130105',['A','D']]"
   ]
  },
  {
   "cell_type": "code",
   "execution_count": 67,
   "metadata": {
    "collapsed": false
   },
   "outputs": [
    {
     "data": {
      "text/plain": [
       "A   -0.903428\n",
       "B   -0.676502\n",
       "Name: 2013-01-04 00:00:00, dtype: float64"
      ]
     },
     "execution_count": 67,
     "metadata": {},
     "output_type": "execute_result"
    }
   ],
   "source": [
    "df.loc['20130104',['A','B']]"
   ]
  },
  {
   "cell_type": "code",
   "execution_count": 68,
   "metadata": {
    "collapsed": false
   },
   "outputs": [
    {
     "data": {
      "text/plain": [
       "-0.90342758256030375"
      ]
     },
     "execution_count": 68,
     "metadata": {},
     "output_type": "execute_result"
    }
   ],
   "source": [
    "df.loc['20130104','A']"
   ]
  },
  {
   "cell_type": "code",
   "execution_count": 71,
   "metadata": {
    "collapsed": false
   },
   "outputs": [
    {
     "data": {
      "text/plain": [
       "-0.90342758256030375"
      ]
     },
     "execution_count": 71,
     "metadata": {},
     "output_type": "execute_result"
    }
   ],
   "source": [
    "# get scalar using at\n",
    "df.at[dates[3],'A']"
   ]
  },
  {
   "cell_type": "code",
   "execution_count": null,
   "metadata": {
    "collapsed": true
   },
   "outputs": [],
   "source": []
  }
 ],
 "metadata": {
  "kernelspec": {
   "display_name": "Python 3",
   "language": "python",
   "name": "python3"
  },
  "language_info": {
   "codemirror_mode": {
    "name": "ipython",
    "version": 3
   },
   "file_extension": ".py",
   "mimetype": "text/x-python",
   "name": "python",
   "nbconvert_exporter": "python",
   "pygments_lexer": "ipython3",
   "version": "3.5.1+"
  }
 },
 "nbformat": 4,
 "nbformat_minor": 0
}
